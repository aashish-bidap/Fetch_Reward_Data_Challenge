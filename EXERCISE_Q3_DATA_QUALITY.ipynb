{
  "nbformat": 4,
  "nbformat_minor": 0,
  "metadata": {
    "colab": {
      "name": "EXERCISE_Q3_DATA_QUALITY.ipynb",
      "provenance": [],
      "collapsed_sections": []
    },
    "kernelspec": {
      "name": "python3",
      "display_name": "Python 3"
    },
    "language_info": {
      "name": "python"
    }
  },
  "cells": [
    {
      "cell_type": "code",
      "metadata": {
        "id": "RzY0vMNfLQ9L"
      },
      "source": [
        "#library imports\n",
        "import pandas as pd\n",
        "from matplotlib import pyplot as plt\n",
        "import seaborn as sns\n",
        "pd.set_option('display.max_rows', 5000)"
      ],
      "execution_count": 4,
      "outputs": []
    },
    {
      "cell_type": "code",
      "metadata": {
        "id": "ux9G0OK5MMNb"
      },
      "source": [
        "#data inputs\n",
        "brands = pd.read_json('/content/drive/MyDrive/Fetch Rewards Challenge/brands.json',lines=True)\n",
        "receipts = pd.read_json('/content/drive/MyDrive/Fetch Rewards Challenge/receipts.json',lines=True)\n",
        "users = pd.read_json('/content/drive/MyDrive/Fetch Rewards Challenge/users.json',lines=True)"
      ],
      "execution_count": 5,
      "outputs": []
    },
    {
      "cell_type": "markdown",
      "metadata": {
        "id": "cWvOuS32Ngov"
      },
      "source": [
        "## Analyzing the Brands Data for Data Quality"
      ]
    },
    {
      "cell_type": "code",
      "metadata": {
        "colab": {
          "base_uri": "https://localhost:8080/",
          "height": 620
        },
        "id": "8xUwtmQrM_gC",
        "outputId": "7ba39843-2f3b-457d-d353-b6eed0f1b523"
      },
      "source": [
        "print(\"Duplicate Barcodes:\")\n",
        "for barcodes,count_ in dict(brands.barcode.value_counts()).items():\n",
        "  if count_ > 1:\n",
        "    print(barcodes)\n",
        "\n",
        "duplicate_barcodes = brands[brands.barcode.isin(['511111204923','511111004790','511111305125','511111504788','511111504139','511111704140','511111605058'])]\n",
        "duplicate_barcodes.sort_values('barcode')"
      ],
      "execution_count": 6,
      "outputs": [
        {
          "output_type": "stream",
          "text": [
            "Duplicate Barcodes:\n",
            "511111204923\n",
            "511111004790\n",
            "511111305125\n",
            "511111504788\n",
            "511111504139\n",
            "511111704140\n",
            "511111605058\n"
          ],
          "name": "stdout"
        },
        {
          "output_type": "execute_result",
          "data": {
            "text/html": [
              "<div>\n",
              "<style scoped>\n",
              "    .dataframe tbody tr th:only-of-type {\n",
              "        vertical-align: middle;\n",
              "    }\n",
              "\n",
              "    .dataframe tbody tr th {\n",
              "        vertical-align: top;\n",
              "    }\n",
              "\n",
              "    .dataframe thead th {\n",
              "        text-align: right;\n",
              "    }\n",
              "</style>\n",
              "<table border=\"1\" class=\"dataframe\">\n",
              "  <thead>\n",
              "    <tr style=\"text-align: right;\">\n",
              "      <th></th>\n",
              "      <th>_id</th>\n",
              "      <th>barcode</th>\n",
              "      <th>category</th>\n",
              "      <th>categoryCode</th>\n",
              "      <th>cpg</th>\n",
              "      <th>name</th>\n",
              "      <th>topBrand</th>\n",
              "      <th>brandCode</th>\n",
              "    </tr>\n",
              "  </thead>\n",
              "  <tbody>\n",
              "    <tr>\n",
              "      <th>467</th>\n",
              "      <td>{'$oid': '5c409ab4cd244a3539b84162'}</td>\n",
              "      <td>511111004790</td>\n",
              "      <td>Baking</td>\n",
              "      <td>NaN</td>\n",
              "      <td>{'$ref': 'Cogs', '$id': {'$oid': '55b62995e4b0...</td>\n",
              "      <td>alexa</td>\n",
              "      <td>1.0</td>\n",
              "      <td>ALEXA</td>\n",
              "    </tr>\n",
              "    <tr>\n",
              "      <th>1071</th>\n",
              "      <td>{'$oid': '5cdacd63166eb33eb7ce0fa8'}</td>\n",
              "      <td>511111004790</td>\n",
              "      <td>Condiments &amp; Sauces</td>\n",
              "      <td>NaN</td>\n",
              "      <td>{'$ref': 'Cogs', '$id': {'$oid': '559c2234e4b0...</td>\n",
              "      <td>Bitten Dressing</td>\n",
              "      <td>NaN</td>\n",
              "      <td>BITTEN</td>\n",
              "    </tr>\n",
              "    <tr>\n",
              "      <th>152</th>\n",
              "      <td>{'$oid': '5c45f91b87ff3552f950f027'}</td>\n",
              "      <td>511111204923</td>\n",
              "      <td>Grocery</td>\n",
              "      <td>NaN</td>\n",
              "      <td>{'$ref': 'Cogs', '$id': {'$oid': '5c45f8b087ff...</td>\n",
              "      <td>Brand1</td>\n",
              "      <td>1.0</td>\n",
              "      <td>0987654321</td>\n",
              "    </tr>\n",
              "    <tr>\n",
              "      <th>536</th>\n",
              "      <td>{'$oid': '5d6027f46d5f3b23d1bc7906'}</td>\n",
              "      <td>511111204923</td>\n",
              "      <td>Snacks</td>\n",
              "      <td>NaN</td>\n",
              "      <td>{'$ref': 'Cogs', '$id': {'$oid': '5332f5fbe4b0...</td>\n",
              "      <td>CHESTER'S</td>\n",
              "      <td>NaN</td>\n",
              "      <td>CHESTERS</td>\n",
              "    </tr>\n",
              "    <tr>\n",
              "      <th>20</th>\n",
              "      <td>{'$oid': '5c4699f387ff3577e203ea29'}</td>\n",
              "      <td>511111305125</td>\n",
              "      <td>Baby</td>\n",
              "      <td>NaN</td>\n",
              "      <td>{'$ref': 'Cogs', '$id': {'$oid': '55b62995e4b0...</td>\n",
              "      <td>Chris Image Test</td>\n",
              "      <td>NaN</td>\n",
              "      <td>CHRISIMAGE</td>\n",
              "    </tr>\n",
              "    <tr>\n",
              "      <th>651</th>\n",
              "      <td>{'$oid': '5d642d65a3a018514994f42d'}</td>\n",
              "      <td>511111305125</td>\n",
              "      <td>Magazines</td>\n",
              "      <td>NaN</td>\n",
              "      <td>{'$ref': 'Cogs', '$id': {'$oid': '5d5d4fd16d5f...</td>\n",
              "      <td>Rachael Ray Everyday</td>\n",
              "      <td>NaN</td>\n",
              "      <td>511111305125</td>\n",
              "    </tr>\n",
              "    <tr>\n",
              "      <th>129</th>\n",
              "      <td>{'$oid': '5a7e0604e4b0aedb3b84afd3'}</td>\n",
              "      <td>511111504139</td>\n",
              "      <td>Beverages</td>\n",
              "      <td>NaN</td>\n",
              "      <td>{'$ref': 'Cogs', '$id': {'$oid': '55b62995e4b0...</td>\n",
              "      <td>Chris Brand XYZ</td>\n",
              "      <td>NaN</td>\n",
              "      <td>CHRISXYZ</td>\n",
              "    </tr>\n",
              "    <tr>\n",
              "      <th>299</th>\n",
              "      <td>{'$oid': '5a8c33f3e4b07f0a2dac8943'}</td>\n",
              "      <td>511111504139</td>\n",
              "      <td>Grocery</td>\n",
              "      <td>NaN</td>\n",
              "      <td>{'$ref': 'Cogs', '$id': {'$oid': '5a734034e4b0...</td>\n",
              "      <td>Pace</td>\n",
              "      <td>0.0</td>\n",
              "      <td>PACE</td>\n",
              "    </tr>\n",
              "    <tr>\n",
              "      <th>9</th>\n",
              "      <td>{'$oid': '5c408e8bcd244a1fdb47aee7'}</td>\n",
              "      <td>511111504788</td>\n",
              "      <td>Baking</td>\n",
              "      <td>NaN</td>\n",
              "      <td>{'$ref': 'Cogs', '$id': {'$oid': '59ba6f1ce4b0...</td>\n",
              "      <td>test</td>\n",
              "      <td>NaN</td>\n",
              "      <td>TEST</td>\n",
              "    </tr>\n",
              "    <tr>\n",
              "      <th>412</th>\n",
              "      <td>{'$oid': '5ccb2ece166eb31bbbadccbe'}</td>\n",
              "      <td>511111504788</td>\n",
              "      <td>Condiments &amp; Sauces</td>\n",
              "      <td>NaN</td>\n",
              "      <td>{'$ref': 'Cogs', '$id': {'$oid': '559c2234e4b0...</td>\n",
              "      <td>The Pioneer Woman</td>\n",
              "      <td>NaN</td>\n",
              "      <td>PIONEER WOMAN</td>\n",
              "    </tr>\n",
              "    <tr>\n",
              "      <th>194</th>\n",
              "      <td>{'$oid': '5d6415d5a3a018514994f429'}</td>\n",
              "      <td>511111605058</td>\n",
              "      <td>Magazines</td>\n",
              "      <td>NaN</td>\n",
              "      <td>{'$ref': 'Cogs', '$id': {'$oid': '5d5d4fd16d5f...</td>\n",
              "      <td>Health Magazine</td>\n",
              "      <td>NaN</td>\n",
              "      <td>511111605058</td>\n",
              "    </tr>\n",
              "    <tr>\n",
              "      <th>1012</th>\n",
              "      <td>{'$oid': '5c4637ba87ff35681e840d57'}</td>\n",
              "      <td>511111605058</td>\n",
              "      <td>Dairy</td>\n",
              "      <td>NaN</td>\n",
              "      <td>{'$ref': 'Cogs', '$id': {'$oid': '5c45f8b087ff...</td>\n",
              "      <td>Brand2</td>\n",
              "      <td>1.0</td>\n",
              "      <td>09090909090</td>\n",
              "    </tr>\n",
              "    <tr>\n",
              "      <th>1002</th>\n",
              "      <td>{'$oid': '5a8c344ae4b0ccf165fac9e5'}</td>\n",
              "      <td>511111704140</td>\n",
              "      <td>Condiments &amp; Sauces</td>\n",
              "      <td>NaN</td>\n",
              "      <td>{'$ref': 'Cogs', '$id': {'$oid': '5a734034e4b0...</td>\n",
              "      <td>Prego</td>\n",
              "      <td>0.0</td>\n",
              "      <td>PREGO</td>\n",
              "    </tr>\n",
              "    <tr>\n",
              "      <th>1015</th>\n",
              "      <td>{'$oid': '5a7e0665e4b0aedb3b84afd4'}</td>\n",
              "      <td>511111704140</td>\n",
              "      <td>NaN</td>\n",
              "      <td>NaN</td>\n",
              "      <td>{'$ref': 'Cogs', '$id': {'$oid': '55b62995e4b0...</td>\n",
              "      <td>Diet Chris Cola</td>\n",
              "      <td>NaN</td>\n",
              "      <td>DIETCHRIS2</td>\n",
              "    </tr>\n",
              "  </tbody>\n",
              "</table>\n",
              "</div>"
            ],
            "text/plain": [
              "                                       _id  ...      brandCode\n",
              "467   {'$oid': '5c409ab4cd244a3539b84162'}  ...          ALEXA\n",
              "1071  {'$oid': '5cdacd63166eb33eb7ce0fa8'}  ...         BITTEN\n",
              "152   {'$oid': '5c45f91b87ff3552f950f027'}  ...     0987654321\n",
              "536   {'$oid': '5d6027f46d5f3b23d1bc7906'}  ...       CHESTERS\n",
              "20    {'$oid': '5c4699f387ff3577e203ea29'}  ...     CHRISIMAGE\n",
              "651   {'$oid': '5d642d65a3a018514994f42d'}  ...   511111305125\n",
              "129   {'$oid': '5a7e0604e4b0aedb3b84afd3'}  ...       CHRISXYZ\n",
              "299   {'$oid': '5a8c33f3e4b07f0a2dac8943'}  ...           PACE\n",
              "9     {'$oid': '5c408e8bcd244a1fdb47aee7'}  ...           TEST\n",
              "412   {'$oid': '5ccb2ece166eb31bbbadccbe'}  ...  PIONEER WOMAN\n",
              "194   {'$oid': '5d6415d5a3a018514994f429'}  ...   511111605058\n",
              "1012  {'$oid': '5c4637ba87ff35681e840d57'}  ...    09090909090\n",
              "1002  {'$oid': '5a8c344ae4b0ccf165fac9e5'}  ...          PREGO\n",
              "1015  {'$oid': '5a7e0665e4b0aedb3b84afd4'}  ...     DIETCHRIS2\n",
              "\n",
              "[14 rows x 8 columns]"
            ]
          },
          "metadata": {
            "tags": []
          },
          "execution_count": 6
        }
      ]
    },
    {
      "cell_type": "markdown",
      "metadata": {
        "id": "jQ0ns5mcPy2O"
      },
      "source": [
        "- **Duplicate barcodes observed in the brands data.**\n",
        "- **No two items can have same barcodes which can be observed above which will cause issue in mapping the items with rewards resulting in false rewards.**\n"
      ]
    },
    {
      "cell_type": "markdown",
      "metadata": {
        "id": "tb_wcu8V0aB_"
      },
      "source": [
        "### TopBrand Attribute"
      ]
    },
    {
      "cell_type": "code",
      "metadata": {
        "colab": {
          "base_uri": "https://localhost:8080/",
          "height": 294
        },
        "id": "mZ96xImezlZT",
        "outputId": "caecf0a3-05fc-48ac-edb7-594d682d3df7"
      },
      "source": [
        "sns.barplot(y=list(brands.topBrand.value_counts()),x=list(brands.topBrand.value_counts().index))\n",
        "plt.xlabel('topBrand (Yes/No) excluding the nulls')\n",
        "plt.ylabel('Count')\n",
        "plt.title('Frequency - topBrands')\n",
        "plt.show()"
      ],
      "execution_count": 13,
      "outputs": [
        {
          "output_type": "display_data",
          "data": {
            "image/png": "[encoded data removed]",
            "text/plain": [
              "<Figure size 432x288 with 1 Axes>"
            ]
          },
          "metadata": {
            "tags": [],
            "needs_background": "light"
          }
        }
      ]
    },
    {
      "cell_type": "markdown",
      "metadata": {
        "id": "q4JPEnr70egX"
      },
      "source": [
        "- **Off the total 1167 brands(including the null values) only 2% of the brands are top brands.**"
      ]
    },
    {
      "cell_type": "markdown",
      "metadata": {
        "id": "7uK3uURjUMpr"
      },
      "source": [
        "### Counting of Non-NA Records in each column"
      ]
    },
    {
      "cell_type": "code",
      "metadata": {
        "colab": {
          "base_uri": "https://localhost:8080/",
          "height": 282
        },
        "id": "Mh2bOe8zSquT",
        "outputId": "2825ae67-e46f-4d3d-8001-db5c942e4917"
      },
      "source": [
        "ser = brands.count()\n",
        "ser.sort_values(ascending=False,inplace=True)\n",
        "ser.plot(kind='barh')"
      ],
      "execution_count": null,
      "outputs": [
        {
          "output_type": "execute_result",
          "data": {
            "text/plain": [
              "<matplotlib.axes._subplots.AxesSubplot at 0x7fb5847c4610>"
            ]
          },
          "metadata": {
            "tags": []
          },
          "execution_count": 64
        },
        {
          "output_type": "display_data",
          "data": {
            "image/png": "[encoded data removed]",
            "text/plain": [
              "<Figure size 432x288 with 1 Axes>"
            ]
          },
          "metadata": {
            "tags": [],
            "needs_background": "light"
          }
        }
      ]
    },
    {
      "cell_type": "markdown",
      "metadata": {
        "id": "tDvVxI-kUY-Q"
      },
      "source": [
        "- **More the 50% of the values in the attributes categoryCode,topBrand have NA values.**\n",
        "- **Missing values categoryCode wont allow us to drill down our at category level.**\n",
        "- **Missing values or NaN in topBrand must be labeled with either 0 or 1 to maintain data consistency.**"
      ]
    },
    {
      "cell_type": "markdown",
      "metadata": {
        "id": "n311IO8gVSW9"
      },
      "source": [
        "## Analyzing the Receipts Data for Data Quality"
      ]
    },
    {
      "cell_type": "code",
      "metadata": {
        "colab": {
          "base_uri": "https://localhost:8080/",
          "height": 282
        },
        "id": "xLK_LUQxcg3E",
        "outputId": "4f75da50-c4f2-45ab-8cee-90c88692b565"
      },
      "source": [
        "val = receipts.count()\n",
        "val.sort_values(ascending=False,inplace=True)\n",
        "val.plot(kind='barh')"
      ],
      "execution_count": null,
      "outputs": [
        {
          "output_type": "execute_result",
          "data": {
            "text/plain": [
              "<matplotlib.axes._subplots.AxesSubplot at 0x7fb563e97210>"
            ]
          },
          "metadata": {
            "tags": []
          },
          "execution_count": 118
        },
        {
          "output_type": "display_data",
          "data": {
            "image/png": "[encoded data removed]",
            "text/plain": [
              "<Figure size 432x288 with 1 Axes>"
            ]
          },
          "metadata": {
            "tags": [],
            "needs_background": "light"
          }
        }
      ]
    },
    {
      "cell_type": "markdown",
      "metadata": {
        "id": "qiCrDn6Sd4Zt"
      },
      "source": [
        "- **Missing / Null values are observed in majority of the columns.**\n",
        "- **If no bonuspoints are earned bonus points should equal to 0 in order to maintain data integrity.**"
      ]
    },
    {
      "cell_type": "code",
      "metadata": {
        "colab": {
          "base_uri": "https://localhost:8080/",
          "height": 353
        },
        "id": "NnWSzSIAVWNz",
        "outputId": "66c53bc4-5508-4100-de20-c5a21c73f7b4"
      },
      "source": [
        "import seaborn as sns\n",
        "status_count  = receipts['rewardsReceiptStatus'].value_counts()\n",
        "y = list(status_count.values)\n",
        "sum_y = sum(status_count.values)\n",
        "for i in range(0,len(y)):\n",
        "  y[i] = y[i] / sum_y\n",
        "plt.figure(figsize=(10,5))\n",
        "sns.barplot(x = status_count.index, y = y, alpha=0.8)\n",
        "plt.title('rewardsReceiptStatus Frequency')\n",
        "plt.ylabel('Percentage', fontsize=12)\n",
        "plt.xlabel('rewardsReceiptStatus', fontsize=12)\n",
        "plt.show()"
      ],
      "execution_count": null,
      "outputs": [
        {
          "output_type": "display_data",
          "data": {
            "image/png": "[encoded data removed]",
            "text/plain": [
              "<Figure size 720x360 with 1 Axes>"
            ]
          },
          "metadata": {
            "tags": [],
            "needs_background": "light"
          }
        }
      ]
    },
    {
      "cell_type": "markdown",
      "metadata": {
        "id": "xKqjq1LEdfo2"
      },
      "source": [
        "- **~20% of the receipts are either rejected/pending/flagged.**"
      ]
    },
    {
      "cell_type": "code",
      "metadata": {
        "colab": {
          "base_uri": "https://localhost:8080/",
          "height": 494
        },
        "id": "VFCnNSI3Y3Hb",
        "outputId": "f4e70252-07c6-4f07-8455-22f672886b64"
      },
      "source": [
        "print(\"Minimum total Spent\",receipts.totalSpent.min())\n",
        "print(\"Maximum total Spent\",receipts.totalSpent.max())\n",
        "print(\"Median total Spent\",receipts.totalSpent.median())\n",
        "print(\"Mean total Spent\",receipts.totalSpent.mean())\n",
        "print(\"Mode total Spent\",receipts.totalSpent.mode()[0])\n",
        "plt.figure(figsize=(10,5))\n",
        "sns.displot(receipts.totalSpent,bins=20,aspect=2,kind='hist')\n",
        "plt.title('Total Spent Distribution')\n",
        "plt.ylabel('Count', fontsize=12)\n",
        "plt.xlabel('totalSpent', fontsize=12)\n",
        "plt.show()"
      ],
      "execution_count": null,
      "outputs": [
        {
          "output_type": "stream",
          "text": [
            "Minimum total Spent 0.0\n",
            "Maximum total Spent 4721.95\n",
            "Median total Spent 18.2\n",
            "Mean total Spent 77.79685672514611\n",
            "Mode total Spent 1.0\n"
          ],
          "name": "stdout"
        },
        {
          "output_type": "display_data",
          "data": {
            "text/plain": [
              "<Figure size 720x360 with 0 Axes>"
            ]
          },
          "metadata": {
            "tags": []
          }
        },
        {
          "output_type": "display_data",
          "data": {
            "image/png": "[encoded data removed]",
            "text/plain": [
              "<Figure size 720x360 with 1 Axes>"
            ]
          },
          "metadata": {
            "tags": [],
            "needs_background": "light"
          }
        }
      ]
    },
    {
      "cell_type": "markdown",
      "metadata": {
        "id": "633UaAPWej2s"
      },
      "source": [
        "- **Small fraction of records observe Extreme values of total spends where spend > 2000 which certainy needs to be validated.**\n",
        "- **Surpising to see the reciepts having total spend == 0 (are these receipts with some promotions/giftcards while the purchase was made.)**"
      ]
    },
    {
      "cell_type": "code",
      "metadata": {
        "colab": {
          "base_uri": "https://localhost:8080/",
          "height": 497
        },
        "id": "EC6qYCk3fCi3",
        "outputId": "1b7f5d89-f162-4321-b4e0-39b31e7c9ae3"
      },
      "source": [
        "print(\"Minimum total pointsEarned\",receipts.pointsEarned.min())\n",
        "print(\"Maximum total pointsEarned\",receipts.pointsEarned.max())\n",
        "print(\"Median total pointsEarned\",receipts.pointsEarned.median())\n",
        "print(\"Mean total pointsEarned\",receipts.pointsEarned.mean())\n",
        "print(\"Mode total pointsEarned\",receipts.pointsEarned.mode()[0])\n",
        "plt.figure(figsize=(10,5))\n",
        "sns.distplot(receipts.pointsEarned,bins=20)\n",
        "plt.title('Total pointsEarned Distribution')\n",
        "plt.xlabel('pointsEarned', fontsize=12)\n",
        "plt.show()"
      ],
      "execution_count": null,
      "outputs": [
        {
          "output_type": "stream",
          "text": [
            "Minimum total pointsEarned 0.0\n",
            "Maximum total pointsEarned 10199.8\n",
            "Median total pointsEarned 150.0\n",
            "Mean total pointsEarned 585.9628899835794\n",
            "Mode total pointsEarned 5.0\n"
          ],
          "name": "stdout"
        },
        {
          "output_type": "stream",
          "text": [
            "/usr/local/lib/python3.7/dist-packages/seaborn/distributions.py:2557: FutureWarning: `distplot` is a deprecated function and will be removed in a future version. Please adapt your code to use either `displot` (a figure-level function with similar flexibility) or `histplot` (an axes-level function for histograms).\n",
            "  warnings.warn(msg, FutureWarning)\n"
          ],
          "name": "stderr"
        },
        {
          "output_type": "display_data",
          "data": {
            "image/png": "[encoded data removed]",
            "text/plain": [
              "<Figure size 720x360 with 1 Axes>"
            ]
          },
          "metadata": {
            "tags": [],
            "needs_background": "light"
          }
        }
      ]
    },
    {
      "cell_type": "markdown",
      "metadata": {
        "id": "zbOzHDW1hclu"
      },
      "source": [
        "***Outlier Cases***\n",
        "- **Small Percentage of the receipts have pointsEarned greater than > 4000.**\n",
        "- **Maximum Points Earned - 10199.8 which certainly needs to be validated.**\n"
      ]
    },
    {
      "cell_type": "markdown",
      "metadata": {
        "id": "ilw7brPYlXmY"
      },
      "source": [
        "## Analyzing the Users Data for Data Quality"
      ]
    },
    {
      "cell_type": "code",
      "metadata": {
        "colab": {
          "base_uri": "https://localhost:8080/",
          "height": 282
        },
        "id": "5lOCew6nhF37",
        "outputId": "f1ab6999-36ef-4c04-aacb-abb33fc12db1"
      },
      "source": [
        "val = users.count()\n",
        "val.sort_values(ascending=False,inplace=True)\n",
        "val.plot(kind='barh')"
      ],
      "execution_count": null,
      "outputs": [
        {
          "output_type": "execute_result",
          "data": {
            "text/plain": [
              "<matplotlib.axes._subplots.AxesSubplot at 0x7fb5620eadd0>"
            ]
          },
          "metadata": {
            "tags": []
          },
          "execution_count": 150
        },
        {
          "output_type": "display_data",
          "data": {
            "image/png": "[encoded data removed]",
            "text/plain": [
              "<Figure size 432x288 with 1 Axes>"
            ]
          },
          "metadata": {
            "tags": [],
            "needs_background": "light"
          }
        }
      ]
    },
    {
      "cell_type": "code",
      "metadata": {
        "colab": {
          "base_uri": "https://localhost:8080/",
          "height": 408
        },
        "id": "P3N8DkhHlgjT",
        "outputId": "b25c8e35-624a-4577-c821-0fe633a73141"
      },
      "source": [
        "import seaborn as sns\n",
        "plt.figure(figsize=(10,5))\n",
        "sns.countplot(users['active'])\n",
        "plt.title('Active Users Frequency')\n",
        "plt.ylabel('Count', fontsize=12)\n",
        "plt.xlabel('active (yes/no)', fontsize=12)\n",
        "plt.show()"
      ],
      "execution_count": 17,
      "outputs": [
        {
          "output_type": "stream",
          "text": [
            "/usr/local/lib/python3.7/dist-packages/seaborn/_decorators.py:43: FutureWarning: Pass the following variable as a keyword arg: x. From version 0.12, the only valid positional argument will be `data`, and passing other arguments without an explicit keyword will result in an error or misinterpretation.\n",
            "  FutureWarning\n"
          ],
          "name": "stderr"
        },
        {
          "output_type": "display_data",
          "data": {
            "image/png": "[encoded data removed]",
            "text/plain": [
              "<Figure size 720x360 with 1 Axes>"
            ]
          },
          "metadata": {
            "tags": [],
            "needs_background": "light"
          }
        }
      ]
    },
    {
      "cell_type": "code",
      "metadata": {
        "colab": {
          "base_uri": "https://localhost:8080/",
          "height": 353
        },
        "id": "09J_Olw_ls-i",
        "outputId": "66f9fbee-3f92-4178-9dd1-45d3c95c653a"
      },
      "source": [
        "import seaborn as sns\n",
        "plt.figure(figsize=(10,5))\n",
        "sns.countplot(x = users['state'])\n",
        "plt.title('Users state Frequency')\n",
        "plt.ylabel('Count', fontsize=12)\n",
        "plt.xlabel('state', fontsize=12)\n",
        "plt.show()"
      ],
      "execution_count": null,
      "outputs": [
        {
          "output_type": "display_data",
          "data": {
            "image/png": "[encoded data removed]",
            "text/plain": [
              "<Figure size 720x360 with 1 Axes>"
            ]
          },
          "metadata": {
            "tags": [],
            "needs_background": "light"
          }
        }
      ]
    },
    {
      "cell_type": "markdown",
      "metadata": {
        "id": "wrusTwHxmVAR"
      },
      "source": [
        "- **Majority of the Users belong to the state of WI(Winscosin)**.\n",
        "- **Users Data is biased towards specific states**"
      ]
    },
    {
      "cell_type": "code",
      "metadata": {
        "colab": {
          "base_uri": "https://localhost:8080/",
          "height": 353
        },
        "id": "ut_Mv4w_mG3r",
        "outputId": "1e19acda-79a1-49e6-999d-6a2e669e0f28"
      },
      "source": [
        "import seaborn as sns\n",
        "plt.figure(figsize=(10,5))\n",
        "sns.countplot(x = users['role'])\n",
        "plt.title('Users role Frequency')\n",
        "plt.ylabel('Count', fontsize=12)\n",
        "plt.xlabel('role', fontsize=12)\n",
        "plt.show()"
      ],
      "execution_count": null,
      "outputs": [
        {
          "output_type": "display_data",
          "data": {
            "image/png": "[encoded data removed]",
            "text/plain": [
              "<Figure size 720x360 with 1 Axes>"
            ]
          },
          "metadata": {
            "tags": [],
            "needs_background": "light"
          }
        }
      ]
    },
    {
      "cell_type": "markdown",
      "metadata": {
        "id": "PDLqRT6nmvb2"
      },
      "source": [
        "- **Data includes ~90 test accounts named with \"fetch-staff\".**"
      ]
    },
    {
      "cell_type": "code",
      "metadata": {
        "colab": {
          "base_uri": "https://localhost:8080/",
          "height": 353
        },
        "id": "0PPsNthxmqoa",
        "outputId": "50e42ff5-23bf-4eb3-e897-68c399cf8b97"
      },
      "source": [
        "import seaborn as sns\n",
        "plt.figure(figsize=(10,5))\n",
        "sns.countplot(x = users['signUpSource'])\n",
        "plt.title('signUpSource Frequency')\n",
        "plt.ylabel('Count', fontsize=12)\n",
        "plt.xlabel('signUpSource', fontsize=12)\n",
        "plt.show()"
      ],
      "execution_count": null,
      "outputs": [
        {
          "output_type": "display_data",
          "data": {
            "image/png": "[encoded data removed]",
            "text/plain": [
              "<Figure size 720x360 with 1 Axes>"
            ]
          },
          "metadata": {
            "tags": [],
            "needs_background": "light"
          }
        }
      ]
    },
    {
      "cell_type": "markdown",
      "metadata": {
        "id": "XcTFTFBzn7tX"
      },
      "source": [
        "- **Surprising to see the Majority of the signupsources are coming from emails and not Google for the 500 users data provided.**"
      ]
    }
  ]
}